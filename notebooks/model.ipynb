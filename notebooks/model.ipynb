{
  "cells": [
    {
      "cell_type": "markdown",
      "metadata": {
        "id": "view-in-github",
        "colab_type": "text"
      },
      "source": [
        "<a href=\"https://colab.research.google.com/github/DanielTeko-Agbo/gsl/blob/master/notebooks/model.ipynb\" target=\"_parent\"><img src=\"https://colab.research.google.com/assets/colab-badge.svg\" alt=\"Open In Colab\"/></a>"
      ]
    },
    {
      "cell_type": "code",
      "execution_count": 16,
      "metadata": {
        "id": "OvSIxx_cvIdA"
      },
      "outputs": [],
      "source": [
        "import pandas as pd\n",
        "import numpy as np\n",
        "import matplotlib.pyplot as plt \n",
        "import seaborn as sns"
      ]
    },
    {
      "cell_type": "code",
      "execution_count": 17,
      "metadata": {
        "id": "F84aDZeWvIdH"
      },
      "outputs": [],
      "source": [
        "cols = [a+str(i) for i in range(1,43) for a in list(\"XYZ\")]\n",
        "cols.append('sign')"
      ]
    },
    {
      "cell_type": "code",
      "execution_count": 18,
      "metadata": {
        "id": "Oqo0hFRfvIdI"
      },
      "outputs": [],
      "source": [
        "df = pd.read_csv('./dataset.csv', names=cols)\n",
        "data = df.copy()\n",
        "# data"
      ]
    },
    {
      "cell_type": "markdown",
      "metadata": {
        "id": "CQZZQwYVvIdI"
      },
      "source": [
        "### PREPROCESSING"
      ]
    },
    {
      "cell_type": "code",
      "execution_count": 19,
      "metadata": {
        "colab": {
          "base_uri": "https://localhost:8080/"
        },
        "id": "D4DWLTxyvIdL",
        "outputId": "706ab864-4d21-43f1-aaba-b6fcbbe2b845"
      },
      "outputs": [
        {
          "output_type": "execute_result",
          "data": {
            "text/plain": [
              "array([' ', '0', '1', '2', '3', '4', '5', '6', '7', '8', '9', 'equal',\n",
              "       'negative', 'positive'], dtype=object)"
            ]
          },
          "metadata": {},
          "execution_count": 19
        }
      ],
      "source": [
        "from sklearn.preprocessing import LabelEncoder\n",
        "label_encoder = LabelEncoder()\n",
        "data['sign'] = label_encoder.fit_transform(data.iloc[:, -1])\n",
        "label_encoder.classes_"
      ]
    },
    {
      "cell_type": "code",
      "execution_count": 20,
      "metadata": {
        "colab": {
          "base_uri": "https://localhost:8080/",
          "height": 574
        },
        "id": "le42Er-mvIdN",
        "outputId": "c7e3146a-f444-4d10-dbf6-b89504618cfb"
      },
      "outputs": [
        {
          "output_type": "execute_result",
          "data": {
            "text/plain": [
              "            X1        Y1            Z1        X2        Y2        Z2  \\\n",
              "0     0.000000  0.000000  0.000000e+00  0.000000  0.000000  0.000000   \n",
              "1     0.000000  0.000000  0.000000e+00  0.000000  0.000000  0.000000   \n",
              "2     0.000000  0.000000  0.000000e+00  0.000000  0.000000  0.000000   \n",
              "3     0.000000  0.000000  0.000000e+00  0.000000  0.000000  0.000000   \n",
              "4     0.000000  0.000000  0.000000e+00  0.000000  0.000000  0.000000   \n",
              "...        ...       ...           ...       ...       ...       ...   \n",
              "1955  0.753855  0.780516 -2.783092e-07  0.707944  0.740366 -0.023037   \n",
              "1956  0.754527  0.781368 -2.719811e-07  0.706204  0.740489 -0.024340   \n",
              "1957  0.756121  0.784600 -2.919269e-07  0.708100  0.740174 -0.024545   \n",
              "1958  0.755070  0.779666 -2.660178e-07  0.708111  0.739435 -0.022127   \n",
              "1959  0.754818  0.778659 -2.764381e-07  0.707171  0.738004 -0.023585   \n",
              "\n",
              "            X3        Y3        Z3        X4  ...       X40       Y40  \\\n",
              "0     0.000000  0.000000  0.000000  0.000000  ...  0.000000  0.000000   \n",
              "1     0.000000  0.000000  0.000000  0.000000  ...  0.000000  0.000000   \n",
              "2     0.000000  0.000000  0.000000  0.000000  ...  0.000000  0.000000   \n",
              "3     0.000000  0.000000  0.000000  0.000000  ...  0.000000  0.000000   \n",
              "4     0.000000  0.000000  0.000000  0.000000  ...  0.000000  0.000000   \n",
              "...        ...       ...       ...       ...  ...       ...       ...   \n",
              "1955  0.665090  0.681268 -0.046624  0.650422  ...  0.647332  0.539427   \n",
              "1956  0.662884  0.682793 -0.048191  0.645441  ...  0.640877  0.539529   \n",
              "1957  0.664918  0.682015 -0.049987  0.646768  ...  0.644277  0.539889   \n",
              "1958  0.665490  0.680687 -0.045329  0.649144  ...  0.647579  0.537988   \n",
              "1959  0.664007  0.679400 -0.047592  0.646412  ...  0.647426  0.540512   \n",
              "\n",
              "           Z40       X41       Y41       Z41       X42       Y42       Z42  \\\n",
              "0     0.000000  0.000000  0.000000  0.000000  0.000000  0.000000  0.000000   \n",
              "1     0.000000  0.000000  0.000000  0.000000  0.000000  0.000000  0.000000   \n",
              "2     0.000000  0.000000  0.000000  0.000000  0.000000  0.000000  0.000000   \n",
              "3     0.000000  0.000000  0.000000  0.000000  0.000000  0.000000  0.000000   \n",
              "4     0.000000  0.000000  0.000000  0.000000  0.000000  0.000000  0.000000   \n",
              "...        ...       ...       ...       ...       ...       ...       ...   \n",
              "1955 -0.060122  0.621430  0.565719 -0.048807  0.594269  0.562218 -0.038206   \n",
              "1956 -0.071622  0.617393  0.565177 -0.059336  0.593074  0.562472 -0.049709   \n",
              "1957 -0.062538  0.618925  0.567810 -0.051054  0.591736  0.565675 -0.040139   \n",
              "1958 -0.066173  0.623570  0.564143 -0.053956  0.595847  0.562509 -0.044221   \n",
              "1959 -0.058455  0.622547  0.569028 -0.046265  0.595191  0.569510 -0.035320   \n",
              "\n",
              "      sign  \n",
              "0        0  \n",
              "1        0  \n",
              "2        0  \n",
              "3        0  \n",
              "4        0  \n",
              "...    ...  \n",
              "1955    13  \n",
              "1956    13  \n",
              "1957    13  \n",
              "1958    13  \n",
              "1959    13  \n",
              "\n",
              "[1960 rows x 127 columns]"
            ],
            "text/html": [
              "\n",
              "  <div id=\"df-5166b55d-b17e-4dfe-98c8-c65396c8371f\">\n",
              "    <div class=\"colab-df-container\">\n",
              "      <div>\n",
              "<style scoped>\n",
              "    .dataframe tbody tr th:only-of-type {\n",
              "        vertical-align: middle;\n",
              "    }\n",
              "\n",
              "    .dataframe tbody tr th {\n",
              "        vertical-align: top;\n",
              "    }\n",
              "\n",
              "    .dataframe thead th {\n",
              "        text-align: right;\n",
              "    }\n",
              "</style>\n",
              "<table border=\"1\" class=\"dataframe\">\n",
              "  <thead>\n",
              "    <tr style=\"text-align: right;\">\n",
              "      <th></th>\n",
              "      <th>X1</th>\n",
              "      <th>Y1</th>\n",
              "      <th>Z1</th>\n",
              "      <th>X2</th>\n",
              "      <th>Y2</th>\n",
              "      <th>Z2</th>\n",
              "      <th>X3</th>\n",
              "      <th>Y3</th>\n",
              "      <th>Z3</th>\n",
              "      <th>X4</th>\n",
              "      <th>...</th>\n",
              "      <th>X40</th>\n",
              "      <th>Y40</th>\n",
              "      <th>Z40</th>\n",
              "      <th>X41</th>\n",
              "      <th>Y41</th>\n",
              "      <th>Z41</th>\n",
              "      <th>X42</th>\n",
              "      <th>Y42</th>\n",
              "      <th>Z42</th>\n",
              "      <th>sign</th>\n",
              "    </tr>\n",
              "  </thead>\n",
              "  <tbody>\n",
              "    <tr>\n",
              "      <th>0</th>\n",
              "      <td>0.000000</td>\n",
              "      <td>0.000000</td>\n",
              "      <td>0.000000e+00</td>\n",
              "      <td>0.000000</td>\n",
              "      <td>0.000000</td>\n",
              "      <td>0.000000</td>\n",
              "      <td>0.000000</td>\n",
              "      <td>0.000000</td>\n",
              "      <td>0.000000</td>\n",
              "      <td>0.000000</td>\n",
              "      <td>...</td>\n",
              "      <td>0.000000</td>\n",
              "      <td>0.000000</td>\n",
              "      <td>0.000000</td>\n",
              "      <td>0.000000</td>\n",
              "      <td>0.000000</td>\n",
              "      <td>0.000000</td>\n",
              "      <td>0.000000</td>\n",
              "      <td>0.000000</td>\n",
              "      <td>0.000000</td>\n",
              "      <td>0</td>\n",
              "    </tr>\n",
              "    <tr>\n",
              "      <th>1</th>\n",
              "      <td>0.000000</td>\n",
              "      <td>0.000000</td>\n",
              "      <td>0.000000e+00</td>\n",
              "      <td>0.000000</td>\n",
              "      <td>0.000000</td>\n",
              "      <td>0.000000</td>\n",
              "      <td>0.000000</td>\n",
              "      <td>0.000000</td>\n",
              "      <td>0.000000</td>\n",
              "      <td>0.000000</td>\n",
              "      <td>...</td>\n",
              "      <td>0.000000</td>\n",
              "      <td>0.000000</td>\n",
              "      <td>0.000000</td>\n",
              "      <td>0.000000</td>\n",
              "      <td>0.000000</td>\n",
              "      <td>0.000000</td>\n",
              "      <td>0.000000</td>\n",
              "      <td>0.000000</td>\n",
              "      <td>0.000000</td>\n",
              "      <td>0</td>\n",
              "    </tr>\n",
              "    <tr>\n",
              "      <th>2</th>\n",
              "      <td>0.000000</td>\n",
              "      <td>0.000000</td>\n",
              "      <td>0.000000e+00</td>\n",
              "      <td>0.000000</td>\n",
              "      <td>0.000000</td>\n",
              "      <td>0.000000</td>\n",
              "      <td>0.000000</td>\n",
              "      <td>0.000000</td>\n",
              "      <td>0.000000</td>\n",
              "      <td>0.000000</td>\n",
              "      <td>...</td>\n",
              "      <td>0.000000</td>\n",
              "      <td>0.000000</td>\n",
              "      <td>0.000000</td>\n",
              "      <td>0.000000</td>\n",
              "      <td>0.000000</td>\n",
              "      <td>0.000000</td>\n",
              "      <td>0.000000</td>\n",
              "      <td>0.000000</td>\n",
              "      <td>0.000000</td>\n",
              "      <td>0</td>\n",
              "    </tr>\n",
              "    <tr>\n",
              "      <th>3</th>\n",
              "      <td>0.000000</td>\n",
              "      <td>0.000000</td>\n",
              "      <td>0.000000e+00</td>\n",
              "      <td>0.000000</td>\n",
              "      <td>0.000000</td>\n",
              "      <td>0.000000</td>\n",
              "      <td>0.000000</td>\n",
              "      <td>0.000000</td>\n",
              "      <td>0.000000</td>\n",
              "      <td>0.000000</td>\n",
              "      <td>...</td>\n",
              "      <td>0.000000</td>\n",
              "      <td>0.000000</td>\n",
              "      <td>0.000000</td>\n",
              "      <td>0.000000</td>\n",
              "      <td>0.000000</td>\n",
              "      <td>0.000000</td>\n",
              "      <td>0.000000</td>\n",
              "      <td>0.000000</td>\n",
              "      <td>0.000000</td>\n",
              "      <td>0</td>\n",
              "    </tr>\n",
              "    <tr>\n",
              "      <th>4</th>\n",
              "      <td>0.000000</td>\n",
              "      <td>0.000000</td>\n",
              "      <td>0.000000e+00</td>\n",
              "      <td>0.000000</td>\n",
              "      <td>0.000000</td>\n",
              "      <td>0.000000</td>\n",
              "      <td>0.000000</td>\n",
              "      <td>0.000000</td>\n",
              "      <td>0.000000</td>\n",
              "      <td>0.000000</td>\n",
              "      <td>...</td>\n",
              "      <td>0.000000</td>\n",
              "      <td>0.000000</td>\n",
              "      <td>0.000000</td>\n",
              "      <td>0.000000</td>\n",
              "      <td>0.000000</td>\n",
              "      <td>0.000000</td>\n",
              "      <td>0.000000</td>\n",
              "      <td>0.000000</td>\n",
              "      <td>0.000000</td>\n",
              "      <td>0</td>\n",
              "    </tr>\n",
              "    <tr>\n",
              "      <th>...</th>\n",
              "      <td>...</td>\n",
              "      <td>...</td>\n",
              "      <td>...</td>\n",
              "      <td>...</td>\n",
              "      <td>...</td>\n",
              "      <td>...</td>\n",
              "      <td>...</td>\n",
              "      <td>...</td>\n",
              "      <td>...</td>\n",
              "      <td>...</td>\n",
              "      <td>...</td>\n",
              "      <td>...</td>\n",
              "      <td>...</td>\n",
              "      <td>...</td>\n",
              "      <td>...</td>\n",
              "      <td>...</td>\n",
              "      <td>...</td>\n",
              "      <td>...</td>\n",
              "      <td>...</td>\n",
              "      <td>...</td>\n",
              "      <td>...</td>\n",
              "    </tr>\n",
              "    <tr>\n",
              "      <th>1955</th>\n",
              "      <td>0.753855</td>\n",
              "      <td>0.780516</td>\n",
              "      <td>-2.783092e-07</td>\n",
              "      <td>0.707944</td>\n",
              "      <td>0.740366</td>\n",
              "      <td>-0.023037</td>\n",
              "      <td>0.665090</td>\n",
              "      <td>0.681268</td>\n",
              "      <td>-0.046624</td>\n",
              "      <td>0.650422</td>\n",
              "      <td>...</td>\n",
              "      <td>0.647332</td>\n",
              "      <td>0.539427</td>\n",
              "      <td>-0.060122</td>\n",
              "      <td>0.621430</td>\n",
              "      <td>0.565719</td>\n",
              "      <td>-0.048807</td>\n",
              "      <td>0.594269</td>\n",
              "      <td>0.562218</td>\n",
              "      <td>-0.038206</td>\n",
              "      <td>13</td>\n",
              "    </tr>\n",
              "    <tr>\n",
              "      <th>1956</th>\n",
              "      <td>0.754527</td>\n",
              "      <td>0.781368</td>\n",
              "      <td>-2.719811e-07</td>\n",
              "      <td>0.706204</td>\n",
              "      <td>0.740489</td>\n",
              "      <td>-0.024340</td>\n",
              "      <td>0.662884</td>\n",
              "      <td>0.682793</td>\n",
              "      <td>-0.048191</td>\n",
              "      <td>0.645441</td>\n",
              "      <td>...</td>\n",
              "      <td>0.640877</td>\n",
              "      <td>0.539529</td>\n",
              "      <td>-0.071622</td>\n",
              "      <td>0.617393</td>\n",
              "      <td>0.565177</td>\n",
              "      <td>-0.059336</td>\n",
              "      <td>0.593074</td>\n",
              "      <td>0.562472</td>\n",
              "      <td>-0.049709</td>\n",
              "      <td>13</td>\n",
              "    </tr>\n",
              "    <tr>\n",
              "      <th>1957</th>\n",
              "      <td>0.756121</td>\n",
              "      <td>0.784600</td>\n",
              "      <td>-2.919269e-07</td>\n",
              "      <td>0.708100</td>\n",
              "      <td>0.740174</td>\n",
              "      <td>-0.024545</td>\n",
              "      <td>0.664918</td>\n",
              "      <td>0.682015</td>\n",
              "      <td>-0.049987</td>\n",
              "      <td>0.646768</td>\n",
              "      <td>...</td>\n",
              "      <td>0.644277</td>\n",
              "      <td>0.539889</td>\n",
              "      <td>-0.062538</td>\n",
              "      <td>0.618925</td>\n",
              "      <td>0.567810</td>\n",
              "      <td>-0.051054</td>\n",
              "      <td>0.591736</td>\n",
              "      <td>0.565675</td>\n",
              "      <td>-0.040139</td>\n",
              "      <td>13</td>\n",
              "    </tr>\n",
              "    <tr>\n",
              "      <th>1958</th>\n",
              "      <td>0.755070</td>\n",
              "      <td>0.779666</td>\n",
              "      <td>-2.660178e-07</td>\n",
              "      <td>0.708111</td>\n",
              "      <td>0.739435</td>\n",
              "      <td>-0.022127</td>\n",
              "      <td>0.665490</td>\n",
              "      <td>0.680687</td>\n",
              "      <td>-0.045329</td>\n",
              "      <td>0.649144</td>\n",
              "      <td>...</td>\n",
              "      <td>0.647579</td>\n",
              "      <td>0.537988</td>\n",
              "      <td>-0.066173</td>\n",
              "      <td>0.623570</td>\n",
              "      <td>0.564143</td>\n",
              "      <td>-0.053956</td>\n",
              "      <td>0.595847</td>\n",
              "      <td>0.562509</td>\n",
              "      <td>-0.044221</td>\n",
              "      <td>13</td>\n",
              "    </tr>\n",
              "    <tr>\n",
              "      <th>1959</th>\n",
              "      <td>0.754818</td>\n",
              "      <td>0.778659</td>\n",
              "      <td>-2.764381e-07</td>\n",
              "      <td>0.707171</td>\n",
              "      <td>0.738004</td>\n",
              "      <td>-0.023585</td>\n",
              "      <td>0.664007</td>\n",
              "      <td>0.679400</td>\n",
              "      <td>-0.047592</td>\n",
              "      <td>0.646412</td>\n",
              "      <td>...</td>\n",
              "      <td>0.647426</td>\n",
              "      <td>0.540512</td>\n",
              "      <td>-0.058455</td>\n",
              "      <td>0.622547</td>\n",
              "      <td>0.569028</td>\n",
              "      <td>-0.046265</td>\n",
              "      <td>0.595191</td>\n",
              "      <td>0.569510</td>\n",
              "      <td>-0.035320</td>\n",
              "      <td>13</td>\n",
              "    </tr>\n",
              "  </tbody>\n",
              "</table>\n",
              "<p>1960 rows × 127 columns</p>\n",
              "</div>\n",
              "      <button class=\"colab-df-convert\" onclick=\"convertToInteractive('df-5166b55d-b17e-4dfe-98c8-c65396c8371f')\"\n",
              "              title=\"Convert this dataframe to an interactive table.\"\n",
              "              style=\"display:none;\">\n",
              "        \n",
              "  <svg xmlns=\"http://www.w3.org/2000/svg\" height=\"24px\"viewBox=\"0 0 24 24\"\n",
              "       width=\"24px\">\n",
              "    <path d=\"M0 0h24v24H0V0z\" fill=\"none\"/>\n",
              "    <path d=\"M18.56 5.44l.94 2.06.94-2.06 2.06-.94-2.06-.94-.94-2.06-.94 2.06-2.06.94zm-11 1L8.5 8.5l.94-2.06 2.06-.94-2.06-.94L8.5 2.5l-.94 2.06-2.06.94zm10 10l.94 2.06.94-2.06 2.06-.94-2.06-.94-.94-2.06-.94 2.06-2.06.94z\"/><path d=\"M17.41 7.96l-1.37-1.37c-.4-.4-.92-.59-1.43-.59-.52 0-1.04.2-1.43.59L10.3 9.45l-7.72 7.72c-.78.78-.78 2.05 0 2.83L4 21.41c.39.39.9.59 1.41.59.51 0 1.02-.2 1.41-.59l7.78-7.78 2.81-2.81c.8-.78.8-2.07 0-2.86zM5.41 20L4 18.59l7.72-7.72 1.47 1.35L5.41 20z\"/>\n",
              "  </svg>\n",
              "      </button>\n",
              "      \n",
              "  <style>\n",
              "    .colab-df-container {\n",
              "      display:flex;\n",
              "      flex-wrap:wrap;\n",
              "      gap: 12px;\n",
              "    }\n",
              "\n",
              "    .colab-df-convert {\n",
              "      background-color: #E8F0FE;\n",
              "      border: none;\n",
              "      border-radius: 50%;\n",
              "      cursor: pointer;\n",
              "      display: none;\n",
              "      fill: #1967D2;\n",
              "      height: 32px;\n",
              "      padding: 0 0 0 0;\n",
              "      width: 32px;\n",
              "    }\n",
              "\n",
              "    .colab-df-convert:hover {\n",
              "      background-color: #E2EBFA;\n",
              "      box-shadow: 0px 1px 2px rgba(60, 64, 67, 0.3), 0px 1px 3px 1px rgba(60, 64, 67, 0.15);\n",
              "      fill: #174EA6;\n",
              "    }\n",
              "\n",
              "    [theme=dark] .colab-df-convert {\n",
              "      background-color: #3B4455;\n",
              "      fill: #D2E3FC;\n",
              "    }\n",
              "\n",
              "    [theme=dark] .colab-df-convert:hover {\n",
              "      background-color: #434B5C;\n",
              "      box-shadow: 0px 1px 3px 1px rgba(0, 0, 0, 0.15);\n",
              "      filter: drop-shadow(0px 1px 2px rgba(0, 0, 0, 0.3));\n",
              "      fill: #FFFFFF;\n",
              "    }\n",
              "  </style>\n",
              "\n",
              "      <script>\n",
              "        const buttonEl =\n",
              "          document.querySelector('#df-5166b55d-b17e-4dfe-98c8-c65396c8371f button.colab-df-convert');\n",
              "        buttonEl.style.display =\n",
              "          google.colab.kernel.accessAllowed ? 'block' : 'none';\n",
              "\n",
              "        async function convertToInteractive(key) {\n",
              "          const element = document.querySelector('#df-5166b55d-b17e-4dfe-98c8-c65396c8371f');\n",
              "          const dataTable =\n",
              "            await google.colab.kernel.invokeFunction('convertToInteractive',\n",
              "                                                     [key], {});\n",
              "          if (!dataTable) return;\n",
              "\n",
              "          const docLinkHtml = 'Like what you see? Visit the ' +\n",
              "            '<a target=\"_blank\" href=https://colab.research.google.com/notebooks/data_table.ipynb>data table notebook</a>'\n",
              "            + ' to learn more about interactive tables.';\n",
              "          element.innerHTML = '';\n",
              "          dataTable['output_type'] = 'display_data';\n",
              "          await google.colab.output.renderOutput(dataTable, element);\n",
              "          const docLink = document.createElement('div');\n",
              "          docLink.innerHTML = docLinkHtml;\n",
              "          element.appendChild(docLink);\n",
              "        }\n",
              "      </script>\n",
              "    </div>\n",
              "  </div>\n",
              "  "
            ]
          },
          "metadata": {},
          "execution_count": 20
        }
      ],
      "source": [
        "data"
      ]
    },
    {
      "cell_type": "code",
      "execution_count": 21,
      "metadata": {
        "colab": {
          "base_uri": "https://localhost:8080/"
        },
        "id": "QzLCPyRqvIdO",
        "outputId": "e4ef9ec2-2798-473c-d8c4-cfee07f1f77c"
      },
      "outputs": [
        {
          "output_type": "execute_result",
          "data": {
            "text/plain": [
              "X1      0\n",
              "Y1      0\n",
              "Z1      0\n",
              "X2      0\n",
              "Y2      0\n",
              "       ..\n",
              "Z41     0\n",
              "X42     0\n",
              "Y42     0\n",
              "Z42     0\n",
              "sign    0\n",
              "Length: 127, dtype: int64"
            ]
          },
          "metadata": {},
          "execution_count": 21
        }
      ],
      "source": [
        "data.isnull().sum()"
      ]
    },
    {
      "cell_type": "code",
      "execution_count": 22,
      "metadata": {
        "colab": {
          "base_uri": "https://localhost:8080/"
        },
        "id": "_TLB6UU4vIdP",
        "outputId": "dbb1c335-0262-4e01-e7da-1c9e41f90a96"
      },
      "outputs": [
        {
          "output_type": "execute_result",
          "data": {
            "text/plain": [
              "0     140\n",
              "1     140\n",
              "2     140\n",
              "3     140\n",
              "4     140\n",
              "5     140\n",
              "6     140\n",
              "7     140\n",
              "8     140\n",
              "9     140\n",
              "10    140\n",
              "11    140\n",
              "12    140\n",
              "13    140\n",
              "Name: sign, dtype: int64"
            ]
          },
          "metadata": {},
          "execution_count": 22
        }
      ],
      "source": [
        "data.sign.value_counts()"
      ]
    },
    {
      "cell_type": "code",
      "execution_count": 23,
      "metadata": {
        "id": "XU6jed4cvIdQ"
      },
      "outputs": [],
      "source": [
        "from sklearn.model_selection import train_test_split"
      ]
    },
    {
      "cell_type": "code",
      "execution_count": 24,
      "metadata": {
        "id": "wVcoWzBdvIdR"
      },
      "outputs": [],
      "source": [
        "xtrain, xtest, ytrain, ytest = train_test_split(data.iloc[:, :-1], data.iloc[:, -1], test_size=0.1, shuffle=True)"
      ]
    },
    {
      "cell_type": "code",
      "execution_count": 25,
      "metadata": {
        "colab": {
          "base_uri": "https://localhost:8080/"
        },
        "id": "1je266vCvIdS",
        "outputId": "9446b441-904c-4aee-ed27-7923fecd7c9c"
      },
      "outputs": [
        {
          "output_type": "execute_result",
          "data": {
            "text/plain": [
              "((1764, 126), (196, 126), (1764,), (196,))"
            ]
          },
          "metadata": {},
          "execution_count": 25
        }
      ],
      "source": [
        "xtrain.shape, xtest.shape, ytrain.shape, ytest.shape"
      ]
    },
    {
      "cell_type": "code",
      "execution_count": 26,
      "metadata": {
        "colab": {
          "base_uri": "https://localhost:8080/"
        },
        "id": "GyWET5jPvIdT",
        "outputId": "0464d53c-24e5-4e8e-c7a9-31a24293e4de"
      },
      "outputs": [
        {
          "output_type": "execute_result",
          "data": {
            "text/plain": [
              "4     131\n",
              "9     130\n",
              "6     130\n",
              "5     128\n",
              "10    127\n",
              "8     127\n",
              "0     126\n",
              "7     126\n",
              "13    126\n",
              "11    126\n",
              "3     125\n",
              "12    124\n",
              "1     120\n",
              "2     118\n",
              "Name: sign, dtype: int64"
            ]
          },
          "metadata": {},
          "execution_count": 26
        }
      ],
      "source": [
        "ytrain.value_counts()"
      ]
    },
    {
      "cell_type": "markdown",
      "metadata": {
        "id": "Zw2Dv-h8vIdT"
      },
      "source": [
        "### RANDOM FOREST CLASSIFIER"
      ]
    },
    {
      "cell_type": "code",
      "execution_count": 27,
      "metadata": {
        "id": "LEvAqtj3vIdU"
      },
      "outputs": [],
      "source": [
        "from sklearn.preprocessing import StandardScaler\n",
        "from sklearn.pipeline import Pipeline\n",
        "from sklearn.ensemble import RandomForestClassifier\n",
        "from sklearn.model_selection import GridSearchCV\n",
        "from xgboost import XGBClassifier\n",
        "from sklearn.model_selection import learning_curve\n",
        "from sklearn.metrics import classification_report, confusion_matrix"
      ]
    },
    {
      "cell_type": "code",
      "execution_count": 28,
      "metadata": {
        "id": "N7prIKC_vIdV"
      },
      "outputs": [],
      "source": [
        "pipeline = Pipeline([\n",
        "    ('scaler', StandardScaler()),\n",
        "    ('classifier', RandomForestClassifier())\n",
        "])"
      ]
    },
    {
      "cell_type": "code",
      "execution_count": 29,
      "metadata": {
        "id": "gJ59K3a6vIdV"
      },
      "outputs": [],
      "source": [
        "rf = pipeline.fit(xtrain, ytrain)"
      ]
    },
    {
      "cell_type": "code",
      "execution_count": 30,
      "metadata": {
        "colab": {
          "base_uri": "https://localhost:8080/"
        },
        "id": "_0Hp5l-bvIdW",
        "outputId": "97c7cfd9-acb6-4335-9355-621dbbdfb26d"
      },
      "outputs": [
        {
          "output_type": "execute_result",
          "data": {
            "text/plain": [
              "1.0"
            ]
          },
          "metadata": {},
          "execution_count": 30
        }
      ],
      "source": [
        "rf.score(xtrain, ytrain)"
      ]
    },
    {
      "cell_type": "code",
      "execution_count": 31,
      "metadata": {
        "id": "WW3pcWZJKOle"
      },
      "outputs": [],
      "source": [
        "rf_pred = rf.predict(xtest)"
      ]
    },
    {
      "cell_type": "code",
      "execution_count": 32,
      "metadata": {
        "colab": {
          "base_uri": "https://localhost:8080/"
        },
        "id": "CP_hxMJMvIdW",
        "outputId": "8c3f7d12-c38c-4d99-f98c-123d79cdcd51"
      },
      "outputs": [
        {
          "output_type": "stream",
          "name": "stdout",
          "text": [
            "('              precision    recall  f1-score   support\\n'\n",
            " '\\n'\n",
            " '           0       1.00      1.00      1.00        14\\n'\n",
            " '           1       1.00      1.00      1.00        20\\n'\n",
            " '           2       1.00      1.00      1.00        22\\n'\n",
            " '           3       1.00      1.00      1.00        15\\n'\n",
            " '           4       1.00      1.00      1.00         9\\n'\n",
            " '           5       1.00      1.00      1.00        12\\n'\n",
            " '           6       1.00      1.00      1.00        10\\n'\n",
            " '           7       1.00      1.00      1.00        14\\n'\n",
            " '           8       1.00      1.00      1.00        13\\n'\n",
            " '           9       1.00      1.00      1.00        10\\n'\n",
            " '          10       1.00      1.00      1.00        13\\n'\n",
            " '          11       1.00      1.00      1.00        14\\n'\n",
            " '          12       1.00      1.00      1.00        16\\n'\n",
            " '          13       1.00      1.00      1.00        14\\n'\n",
            " '\\n'\n",
            " '    accuracy                           1.00       196\\n'\n",
            " '   macro avg       1.00      1.00      1.00       196\\n'\n",
            " 'weighted avg       1.00      1.00      1.00       196\\n')\n"
          ]
        }
      ],
      "source": [
        "import pprint\n",
        "pprint.pprint(classification_report(ytest, rf_pred))"
      ]
    },
    {
      "cell_type": "code",
      "execution_count": 33,
      "metadata": {
        "colab": {
          "base_uri": "https://localhost:8080/",
          "height": 317
        },
        "id": "6q16TctBvIdX",
        "outputId": "5d7ccfa9-1e71-4e62-ad31-0d4b9d07d019"
      },
      "outputs": [
        {
          "output_type": "execute_result",
          "data": {
            "text/plain": [
              "<matplotlib.axes._subplots.AxesSubplot at 0x7f996d7724c0>"
            ]
          },
          "metadata": {},
          "execution_count": 33
        },
        {
          "output_type": "display_data",
          "data": {
            "text/plain": [
              "<Figure size 432x288 with 2 Axes>"
            ],
            "image/png": "[encoded data removed]"
          },
          "metadata": {
            "needs_background": "light"
          }
        }
      ],
      "source": [
        "sns.heatmap(confusion_matrix(ytest, rf_pred), annot=True, xticklabels=label_encoder.classes_, yticklabels=label_encoder.classes_)"
      ]
    },
    {
      "cell_type": "code",
      "execution_count": 34,
      "metadata": {
        "colab": {
          "base_uri": "https://localhost:8080/"
        },
        "id": "TkRfIgymvIdX",
        "outputId": "21e5f663-2e9d-4bb0-b085-f72425ed0992"
      },
      "outputs": [
        {
          "output_type": "execute_result",
          "data": {
            "text/plain": [
              "{'memory': None,\n",
              " 'steps': [('scaler', StandardScaler()),\n",
              "  ('classifier', RandomForestClassifier())],\n",
              " 'verbose': False,\n",
              " 'scaler': StandardScaler(),\n",
              " 'classifier': RandomForestClassifier(),\n",
              " 'scaler__copy': True,\n",
              " 'scaler__with_mean': True,\n",
              " 'scaler__with_std': True,\n",
              " 'classifier__bootstrap': True,\n",
              " 'classifier__ccp_alpha': 0.0,\n",
              " 'classifier__class_weight': None,\n",
              " 'classifier__criterion': 'gini',\n",
              " 'classifier__max_depth': None,\n",
              " 'classifier__max_features': 'auto',\n",
              " 'classifier__max_leaf_nodes': None,\n",
              " 'classifier__max_samples': None,\n",
              " 'classifier__min_impurity_decrease': 0.0,\n",
              " 'classifier__min_samples_leaf': 1,\n",
              " 'classifier__min_samples_split': 2,\n",
              " 'classifier__min_weight_fraction_leaf': 0.0,\n",
              " 'classifier__n_estimators': 100,\n",
              " 'classifier__n_jobs': None,\n",
              " 'classifier__oob_score': False,\n",
              " 'classifier__random_state': None,\n",
              " 'classifier__verbose': 0,\n",
              " 'classifier__warm_start': False}"
            ]
          },
          "metadata": {},
          "execution_count": 34
        }
      ],
      "source": [
        "rf.get_params()"
      ]
    },
    {
      "cell_type": "code",
      "execution_count": 35,
      "metadata": {
        "id": "gBQy8-FMvIdY"
      },
      "outputs": [],
      "source": [
        "train_size, train_score, test_score = learning_curve(rf, xtrain, ytrain, cv=20, scoring='accuracy', n_jobs=-1, train_sizes=np.linspace(0.01, 1.0, 60))"
      ]
    },
    {
      "cell_type": "code",
      "execution_count": 36,
      "metadata": {
        "id": "Bajh2RuPvIdZ"
      },
      "outputs": [],
      "source": [
        "train_mean = np.mean(train_score, axis=1)\n",
        "train_std = np.std(train_score, axis=1)\n",
        "\n",
        "test_mean = np.mean(test_score, axis=1)\n",
        "test_std = np.std(test_score, axis=1)\n",
        "\n",
        "plt.subplots(1, figsize=(10,9))\n",
        "plt.plot(train_size, train_mean, '--', color='#111111', label='Training Score')\n",
        "plt.plot(train_size, test_mean, color=\"#111111\", label=\"Cross Validation\")\n",
        "\n",
        "# plt.fill_between(train_size, train_mean - train_std, train_mean + train_std, color='#DDDDDD')\n",
        "plt.fill_between(train_size, test_mean - test_std, test_mean + test_std, color='#DDDDDD')\n",
        "\n",
        "plt.yticks(np.arange(0.0, 1.1, 0.1))\n",
        "plt.title('LEARNING CURVE FOR RANDOM FOREST CLASSIFIER')\n",
        "plt.xlabel(\"TRAINING SET SIZE\")\n",
        "plt.ylabel(\"ACCURACY SCORE\")\n",
        "plt.legend(loc='best')\n",
        "plt.tight_layout()\n",
        "plt.show()"
      ]
    },
    {
      "cell_type": "code",
      "source": [
        "from google.colab import drive\n",
        "drive.mount('/content/gdrive')"
      ],
      "metadata": {
        "colab": {
          "base_uri": "https://localhost:8080/"
        },
        "id": "hQE31tDVqM_s",
        "outputId": "15a6db06-720a-47cf-9fc6-20da4ac0480c"
      },
      "execution_count": 64,
      "outputs": [
        {
          "output_type": "stream",
          "name": "stdout",
          "text": [
            "Mounted at /content/gdrive\n"
          ]
        }
      ]
    },
    {
      "cell_type": "code",
      "source": [
        "import pickle \n",
        "with open(\"/content/gdrive/My Drive/model.pkl\", \"wb\") as model:\n",
        "    pickle.dump(rf, model)"
      ],
      "metadata": {
        "id": "73KiGaqSr6wh"
      },
      "execution_count": 65,
      "outputs": []
    },
    {
      "cell_type": "markdown",
      "metadata": {
        "id": "kKpxASKavIdZ"
      },
      "source": [
        "#### HYPERPARAMETER TUNING OF THE RANDOM FOREST CLASSIFIER"
      ]
    },
    {
      "cell_type": "code",
      "execution_count": 37,
      "metadata": {
        "id": "ZQYC2kYZvIda"
      },
      "outputs": [],
      "source": [
        "params = {\n",
        "    'classifier__max_depth': np.arange(1,25, 2),\n",
        "    'classifier__n_estimators': np.arange(100,220,20)\n",
        "}\n",
        "gridsearch = GridSearchCV(pipeline, params, cv=10)\n",
        "best_model_rf = gridsearch.fit(xtrain, ytrain)"
      ]
    },
    {
      "cell_type": "code",
      "execution_count": 38,
      "metadata": {
        "id": "xjYLkq9cvIda"
      },
      "outputs": [],
      "source": [
        "best_model_rf.best_estimator_\n",
        "print(best_model_rf.best_params_)\n",
        "print(best_model_rf.best_score_)"
      ]
    },
    {
      "cell_type": "code",
      "execution_count": 39,
      "metadata": {
        "id": "HEW9e4531QHn"
      },
      "outputs": [],
      "source": [
        "print(best_model_rf.best_estimator_.get_params()['classifier'])"
      ]
    },
    {
      "cell_type": "code",
      "execution_count": 40,
      "metadata": {
        "id": "INyf0trZRkbn"
      },
      "outputs": [],
      "source": [
        "best_model_rf_pred = best_model_rf.predict(xtest)"
      ]
    },
    {
      "cell_type": "code",
      "execution_count": 41,
      "metadata": {
        "id": "xXx6-G2CSHRR"
      },
      "outputs": [],
      "source": [
        "pprint.pprint(classification_report(ytest, best_model_rf_pred))"
      ]
    },
    {
      "cell_type": "code",
      "execution_count": 42,
      "metadata": {
        "id": "4gl5E6eURjU5"
      },
      "outputs": [],
      "source": [
        "sns.heatmap(confusion_matrix(ytest, best_model_rf_pred), annot=True, xticklabels=label_encoder.classes_, yticklabels=label_encoder.classes_)"
      ]
    },
    {
      "cell_type": "code",
      "execution_count": 43,
      "metadata": {
        "id": "WJkW-mNtvIdb"
      },
      "outputs": [],
      "source": [
        "train_size, train_score, test_score = learning_curve(best_model_rf.best_estimator_.get_params()['classifier'], xtrain, ytrain, cv=20, scoring='accuracy', n_jobs=-1, train_sizes=np.linspace(0.01, 1.0, 60))"
      ]
    },
    {
      "cell_type": "code",
      "execution_count": 44,
      "metadata": {
        "id": "XO_OcjWsvIdb"
      },
      "outputs": [],
      "source": [
        "train_size, train_score, test_score"
      ]
    },
    {
      "cell_type": "code",
      "execution_count": 45,
      "metadata": {
        "id": "mbsoHl2evIdb"
      },
      "outputs": [],
      "source": [
        "train_mean = np.mean(train_score, axis=1)\n",
        "train_std = np.std(train_score, axis=1)\n",
        "\n",
        "test_mean = np.mean(test_score, axis=1)\n",
        "test_std = np.std(test_score, axis=1)"
      ]
    },
    {
      "cell_type": "code",
      "execution_count": 45,
      "metadata": {
        "id": "dmO9X7bBvIdc"
      },
      "outputs": [],
      "source": []
    },
    {
      "cell_type": "code",
      "execution_count": 46,
      "metadata": {
        "id": "fKYqM78JvIdc"
      },
      "outputs": [],
      "source": [
        "plt.subplots(1, figsize=(10,9))\n",
        "plt.plot(train_size, train_mean, '--', color='#111111', label='Training Score')\n",
        "plt.plot(train_size, test_mean, color=\"#111111\", label=\"Cross Validation\")\n",
        "\n",
        "# plt.fill_between(train_size, train_mean - train_std, train_mean + train_std, color='#DDDDDD')\n",
        "plt.fill_between(train_size, test_mean - test_std, test_mean + test_std, color='#DDDDDD')\n",
        "\n",
        "plt.yticks(np.arange(0.0, 1.1, 0.1))\n",
        "plt.title('LEARNING CURVE FOR RANDOM FOREST CLASSIFIER WITH TUNED HYPER PARAMETERS')\n",
        "plt.xlabel(\"TRAINING SET SIZE\")\n",
        "plt.ylabel(\"ACCURACY SCORE\")\n",
        "plt.legend(loc='best')\n",
        "plt.tight_layout()\n",
        "plt.show()"
      ]
    },
    {
      "cell_type": "code",
      "execution_count": 46,
      "metadata": {
        "id": "7ylXGr-LvIdc"
      },
      "outputs": [],
      "source": []
    },
    {
      "cell_type": "markdown",
      "metadata": {
        "id": "S9_GgaXEvIdc"
      },
      "source": [
        "### XGBOOST CLASSIFIER"
      ]
    },
    {
      "cell_type": "code",
      "execution_count": 47,
      "metadata": {
        "id": "8lSbp7-MvIdd"
      },
      "outputs": [],
      "source": [
        "pipeline = Pipeline([\n",
        "    ('scaler', StandardScaler()),\n",
        "    ('classifier', XGBClassifier())\n",
        "])\n",
        "xg = pipeline.fit(xtrain, ytrain)"
      ]
    },
    {
      "cell_type": "code",
      "execution_count": 48,
      "metadata": {
        "colab": {
          "base_uri": "https://localhost:8080/"
        },
        "id": "tOhxZsLyvIdd",
        "outputId": "bf676a6a-9046-4fe6-8171-11a99f54016b"
      },
      "outputs": [
        {
          "output_type": "execute_result",
          "data": {
            "text/plain": [
              "1.0"
            ]
          },
          "metadata": {},
          "execution_count": 48
        }
      ],
      "source": [
        "xg.score(xtrain, ytrain)"
      ]
    },
    {
      "cell_type": "code",
      "execution_count": 49,
      "metadata": {
        "id": "5RMAbO01OHpQ"
      },
      "outputs": [],
      "source": [
        "xg_pred = xg.predict(xtest)"
      ]
    },
    {
      "cell_type": "code",
      "execution_count": 50,
      "metadata": {
        "colab": {
          "base_uri": "https://localhost:8080/"
        },
        "id": "NbpIv9ipvIdd",
        "outputId": "8276fd25-e244-4fbe-affa-6c132ffd8188"
      },
      "outputs": [
        {
          "output_type": "stream",
          "name": "stdout",
          "text": [
            "('              precision    recall  f1-score   support\\n'\n",
            " '\\n'\n",
            " '           0       1.00      1.00      1.00        14\\n'\n",
            " '           1       1.00      1.00      1.00        20\\n'\n",
            " '           2       1.00      1.00      1.00        22\\n'\n",
            " '           3       1.00      1.00      1.00        15\\n'\n",
            " '           4       1.00      1.00      1.00         9\\n'\n",
            " '           5       1.00      1.00      1.00        12\\n'\n",
            " '           6       1.00      1.00      1.00        10\\n'\n",
            " '           7       1.00      1.00      1.00        14\\n'\n",
            " '           8       1.00      1.00      1.00        13\\n'\n",
            " '           9       1.00      1.00      1.00        10\\n'\n",
            " '          10       1.00      1.00      1.00        13\\n'\n",
            " '          11       1.00      1.00      1.00        14\\n'\n",
            " '          12       1.00      1.00      1.00        16\\n'\n",
            " '          13       1.00      1.00      1.00        14\\n'\n",
            " '\\n'\n",
            " '    accuracy                           1.00       196\\n'\n",
            " '   macro avg       1.00      1.00      1.00       196\\n'\n",
            " 'weighted avg       1.00      1.00      1.00       196\\n')\n"
          ]
        }
      ],
      "source": [
        "pprint.pprint(classification_report(ytest, xg_pred))"
      ]
    },
    {
      "cell_type": "code",
      "execution_count": 51,
      "metadata": {
        "colab": {
          "base_uri": "https://localhost:8080/",
          "height": 317
        },
        "id": "ZiagafQGvIde",
        "outputId": "cc7996e2-b39a-47c0-ba2a-bfae7602cbe6"
      },
      "outputs": [
        {
          "output_type": "execute_result",
          "data": {
            "text/plain": [
              "<matplotlib.axes._subplots.AxesSubplot at 0x7f996d085400>"
            ]
          },
          "metadata": {},
          "execution_count": 51
        },
        {
          "output_type": "display_data",
          "data": {
            "text/plain": [
              "<Figure size 432x288 with 2 Axes>"
            ],
            "image/png": "[encoded data removed]"
          },
          "metadata": {
            "needs_background": "light"
          }
        }
      ],
      "source": [
        "sns.heatmap(confusion_matrix(ytest, xg_pred), annot=True, xticklabels=label_encoder.classes_, yticklabels=label_encoder.classes_)"
      ]
    },
    {
      "cell_type": "code",
      "execution_count": 52,
      "metadata": {
        "colab": {
          "base_uri": "https://localhost:8080/"
        },
        "id": "jMYD3dbWvIde",
        "outputId": "2d5961d5-5fe0-42be-e0a8-fbe81b359442"
      },
      "outputs": [
        {
          "output_type": "execute_result",
          "data": {
            "text/plain": [
              "{'memory': None,\n",
              " 'steps': [('scaler', StandardScaler()),\n",
              "  ('classifier', XGBClassifier(objective='multi:softprob'))],\n",
              " 'verbose': False,\n",
              " 'scaler': StandardScaler(),\n",
              " 'classifier': XGBClassifier(objective='multi:softprob'),\n",
              " 'scaler__copy': True,\n",
              " 'scaler__with_mean': True,\n",
              " 'scaler__with_std': True,\n",
              " 'classifier__base_score': 0.5,\n",
              " 'classifier__booster': 'gbtree',\n",
              " 'classifier__colsample_bylevel': 1,\n",
              " 'classifier__colsample_bynode': 1,\n",
              " 'classifier__colsample_bytree': 1,\n",
              " 'classifier__gamma': 0,\n",
              " 'classifier__learning_rate': 0.1,\n",
              " 'classifier__max_delta_step': 0,\n",
              " 'classifier__max_depth': 3,\n",
              " 'classifier__min_child_weight': 1,\n",
              " 'classifier__missing': None,\n",
              " 'classifier__n_estimators': 100,\n",
              " 'classifier__n_jobs': 1,\n",
              " 'classifier__nthread': None,\n",
              " 'classifier__objective': 'multi:softprob',\n",
              " 'classifier__random_state': 0,\n",
              " 'classifier__reg_alpha': 0,\n",
              " 'classifier__reg_lambda': 1,\n",
              " 'classifier__scale_pos_weight': 1,\n",
              " 'classifier__seed': None,\n",
              " 'classifier__silent': None,\n",
              " 'classifier__subsample': 1,\n",
              " 'classifier__verbosity': 1}"
            ]
          },
          "metadata": {},
          "execution_count": 52
        }
      ],
      "source": [
        "xg.get_params()"
      ]
    },
    {
      "cell_type": "code",
      "execution_count": 53,
      "metadata": {
        "id": "oNXa4RlSQIDR"
      },
      "outputs": [],
      "source": [
        "train_size, train_score, test_score = learning_curve(xg, xtrain, ytrain, cv=20, scoring='accuracy', n_jobs=-1, train_sizes=np.linspace(0.01, 1.0, 60))"
      ]
    },
    {
      "cell_type": "code",
      "execution_count": 54,
      "metadata": {
        "id": "ysGTUR8FQHvo"
      },
      "outputs": [],
      "source": [
        "train_mean = np.mean(train_score, axis=1)\n",
        "train_std = np.std(train_score, axis=1)\n",
        "\n",
        "test_mean = np.mean(test_score, axis=1)\n",
        "test_std = np.std(test_score, axis=1)\n",
        "\n",
        "plt.subplots(1, figsize=(10,9))\n",
        "plt.plot(train_size, train_mean, '--', color='#111111', label='Training Score')\n",
        "plt.plot(train_size, test_mean, color=\"#111111\", label=\"Cross Validation\")\n",
        "\n",
        "# plt.fill_between(train_size, train_mean - train_std, train_mean + train_std, color='#DDDDDD')\n",
        "plt.fill_between(train_size, test_mean - test_std, test_mean + test_std, color='#DDDDDD')\n",
        "\n",
        "plt.yticks(np.arange(0.0, 1.1, 0.1))\n",
        "plt.title('LEARNING CURVE FOR XGBOOST CLASSIFIER')\n",
        "plt.xlabel(\"TRAINING SET SIZE\")\n",
        "plt.ylabel(\"ACCURACY SCORE\")\n",
        "plt.legend(loc='best')\n",
        "plt.tight_layout()\n",
        "plt.show()"
      ]
    },
    {
      "cell_type": "markdown",
      "metadata": {
        "id": "gHy45w-gvIde"
      },
      "source": [
        "#### HYPERPARAMETER TUNING OF THE XGBOOST CLASSIFIER"
      ]
    },
    {
      "cell_type": "code",
      "execution_count": 55,
      "metadata": {
        "id": "4OzOYkKPvIdf"
      },
      "outputs": [],
      "source": [
        "params = {\n",
        "    'classifier__max_depth': np.arange(1,25, 2),\n",
        "    'classifier__n_estimators': np.arange(100,220,20),\n",
        "    'classifier__learning_rate': np.arange(0.1, 1.0, 0.05)\n",
        "}\n",
        "gridsearch = GridSearchCV(pipeline, params)\n",
        "best_model_xg = gridsearch.fit(xtrain, ytrain)"
      ]
    },
    {
      "cell_type": "code",
      "execution_count": 56,
      "metadata": {
        "id": "cuU2tAZkXl9R"
      },
      "outputs": [],
      "source": [
        "best_model_xg.best_estimator_\n",
        "print(best_model_xg.best_params_)\n",
        "print(best_model_xg.best_score_)"
      ]
    },
    {
      "cell_type": "code",
      "execution_count": 57,
      "metadata": {
        "id": "xjMaaOamQ7xC"
      },
      "outputs": [],
      "source": [
        "best_model_xg_pred = best_model_xg.predict(xtest)"
      ]
    },
    {
      "cell_type": "code",
      "execution_count": 58,
      "metadata": {
        "id": "SlPpkBW4RTr-"
      },
      "outputs": [],
      "source": [
        "pprint.pprint(classification_report(ytest, best_model_xg_pred))"
      ]
    },
    {
      "cell_type": "code",
      "execution_count": 59,
      "metadata": {
        "id": "ak2bw9g1Q7i5"
      },
      "outputs": [],
      "source": [
        "sns.heatmap(confusion_matrix(ytest, best_model_xg_pred), annot=True, xticklabels=label_encoder.classes_, yticklabels=label_encoder.classes_)"
      ]
    },
    {
      "cell_type": "code",
      "execution_count": 60,
      "metadata": {
        "id": "6YahoAY7PVg5"
      },
      "outputs": [],
      "source": [
        "train_size, train_score, test_score = learning_curve(best_model_xg.best_estimator_.get_params()['classifier'], xtrain, ytrain, cv=20, scoring='accuracy', n_jobs=-1, train_sizes=np.linspace(0.01, 1.0, 60))"
      ]
    },
    {
      "cell_type": "code",
      "execution_count": 61,
      "metadata": {
        "id": "4A4UR3OgPgFm"
      },
      "outputs": [],
      "source": [
        "train_mean = np.mean(train_score, axis=1)\n",
        "train_std = np.std(train_score, axis=1)\n",
        "\n",
        "test_mean = np.mean(test_score, axis=1)\n",
        "test_std = np.std(test_score, axis=1)"
      ]
    },
    {
      "cell_type": "code",
      "execution_count": 62,
      "metadata": {
        "id": "DoriE47_PhT2"
      },
      "outputs": [],
      "source": [
        "plt.subplots(1, figsize=(10,9))\n",
        "plt.plot(train_size, train_mean, '--', color='#111111', label='Training Score')\n",
        "plt.plot(train_size, test_mean, color=\"#111111\", label=\"Cross Validation\")\n",
        "\n",
        "# plt.fill_between(train_size, train_mean - train_std, train_mean + train_std, color='#DDDDDD')\n",
        "plt.fill_between(train_size, test_mean - test_std, test_mean + test_std, color='#DDDDDD')\n",
        "\n",
        "plt.yticks(np.arange(0.0, 1.1, 0.1))\n",
        "plt.title('LEARNING CURVE FOR XGBOOST CLASSIFIER WITH TUNED HYPER PARAMETERS')\n",
        "plt.xlabel(\"TRAINING SET SIZE\")\n",
        "plt.ylabel(\"ACCURACY SCORE\")\n",
        "plt.legend(loc='best')\n",
        "plt.tight_layout()\n",
        "plt.show()"
      ]
    }
  ],
  "metadata": {
    "accelerator": "GPU",
    "colab": {
      "provenance": [],
      "include_colab_link": true
    },
    "gpuClass": "standard",
    "kernelspec": {
      "display_name": "Python 3.10.6 ('gsl_env': venv)",
      "language": "python",
      "name": "python3"
    },
    "language_info": {
      "codemirror_mode": {
        "name": "ipython",
        "version": 3
      },
      "file_extension": ".py",
      "mimetype": "text/x-python",
      "name": "python",
      "nbconvert_exporter": "python",
      "pygments_lexer": "ipython3",
      "version": "3.10.6"
    },
    "vscode": {
      "interpreter": {
        "hash": "cbbda35e893eb401b56b6e1a40f5f3de6cd437a911b8a31fd7e806d000c87aa2"
      }
    }
  },
  "nbformat": 4,
  "nbformat_minor": 0
}